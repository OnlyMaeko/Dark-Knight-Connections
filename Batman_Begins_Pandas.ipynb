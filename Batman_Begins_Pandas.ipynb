{
 "cells": [
  {
   "cell_type": "markdown",
   "metadata": {},
   "source": [
    "# Character Connection Analysis\n",
    "\n",
    "### First Representation as a dataframe using pandas!"
   ]
  },
  {
   "cell_type": "code",
   "execution_count": 4,
   "metadata": {},
   "outputs": [
    {
     "name": "stdout",
     "output_type": "stream",
     "text": [
      "    Bruce Wayne        Batman       Alfred   Lucius Fox Rachel Dawes  \\\n",
      "0        Alfred        Alfred  Bruce Wayne  Bruce Wayne  Bruce Wayne   \n",
      "1        Batman   Bruce Wayne       Batman       Batman          N/A   \n",
      "2    Lucius Fox    Scare Crow          N/A       Alfred          N/A   \n",
      "3  Rachel Dawes   Ras al Ghul          N/A          N/A          N/A   \n",
      "4  James Gordon  James Gordon          N/A          N/A          N/A   \n",
      "\n",
      "    Scare Crow James Gordon      Officers  Ras al Ghul      Falcone  \n",
      "0       Batman       Batman        Batman  Bruce Wayne   Scare Crow  \n",
      "1      Falcone  Bruce Wayne   Bruce Wayne       Batman       Batman  \n",
      "2  Ras al Ghul     Officers  James Gordon    Scarecrow  Ras al Ghul  \n",
      "3          N/A          N/A           N/A          N/A          N/A  \n",
      "4          N/A          N/A           N/A          N/A          N/A  \n"
     ]
    }
   ],
   "source": [
    "import pandas as pd\n",
    "\n",
    "# Create a DataFrame to represent character connections\n",
    "data = {\n",
    "    'Bruce Wayne': ['Alfred', 'Batman', 'Lucius Fox', 'Rachel Dawes', 'James Gordon'],\n",
    "    'Batman': ['Alfred', 'Bruce Wayne', 'Scare Crow', 'Ras al Ghul', 'James Gordon'],\n",
    "    'Alfred': ['Bruce Wayne', 'Batman', 'N/A', 'N/A', 'N/A'],\n",
    "    'Lucius Fox': ['Bruce Wayne', 'Batman', 'Alfred', 'N/A', 'N/A'],\n",
    "    'Rachel Dawes': ['Bruce Wayne', 'N/A', 'N/A', 'N/A', 'N/A'],\n",
    "    'Scare Crow': ['Batman', 'Falcone', 'Ras al Ghul', 'N/A', 'N/A'],\n",
    "    'James Gordon': ['Batman', 'Bruce Wayne', 'Officers', 'N/A' ,'N/A'],\n",
    "    'Officers': ['Batman', 'Bruce Wayne', 'James Gordon', 'N/A', 'N/A'],\n",
    "    'Ras al Ghul': ['Bruce Wayne', 'Batman', 'Scarecrow', 'N/A', 'N/A'],\n",
    "    'Falcone': ['Scare Crow', 'Batman', 'Ras al Ghul', 'N/A', 'N/A']  \n",
    "}\n",
    "\n",
    "df = pd.DataFrame(data)\n",
    "\n",
    "print(df)\n",
    "\n",
    "\n"
   ]
  },
  {
   "cell_type": "markdown",
   "metadata": {},
   "source": [
    "### Let's clean this up a bit using tables! "
   ]
  },
  {
   "cell_type": "code",
   "execution_count": 5,
   "metadata": {},
   "outputs": [
    {
     "name": "stdout",
     "output_type": "stream",
     "text": [
      "              Alfred  Batman  Lucius Fox  Rachel Dawes  Scare Crow  \\\n",
      "Character                                                            \n",
      "Bruce Wayne        0       1           1             1           0   \n",
      "Batman             1       0           1             0           1   \n",
      "Alfred             1       1           0             0           0   \n",
      "Lucius Fox         0       1           1             0           0   \n",
      "Rachel Dawes       0       0           0             0           0   \n",
      "Scare Crow         0       1           0             0           1   \n",
      "James Gordon       0       1           0             0           0   \n",
      "Officers           0       1           0             0           0   \n",
      "Ras al Ghul        0       1           0             0           1   \n",
      "Falcone            0       1           0             0           1   \n",
      "\n",
      "              James Gordon  Officers  Ras al Ghul  Falcone  \n",
      "Character                                                   \n",
      "Bruce Wayne              1         1            1        0  \n",
      "Batman                   1         1            1        1  \n",
      "Alfred                   0         1            0        0  \n",
      "Lucius Fox               0         0            0        0  \n",
      "Rachel Dawes             0         0            0        0  \n",
      "Scare Crow               0         0            1        1  \n",
      "James Gordon             0         1            0        0  \n",
      "Officers                 1         0            0        0  \n",
      "Ras al Ghul              0         0            0        1  \n",
      "Falcone                  0         0            1        0  \n"
     ]
    }
   ],
   "source": [
    "import pandas as pd\n",
    "\n",
    "# Create a DataFrame to represent character connections\n",
    "data = {\n",
    "    'Character': ['Bruce Wayne', 'Batman', 'Alfred', 'Lucius Fox', 'Rachel Dawes', 'Scare Crow', 'James Gordon', 'Officers', 'Ras al Ghul', 'Falcone'],\n",
    "    'Alfred': [0, 1, 1, 0, 0, 0, 0, 0, 0, 0],\n",
    "    'Batman': [1, 0, 1, 1, 0, 1, 1, 1, 1, 1],\n",
    "    'Lucius Fox': [1, 1, 0, 1, 0, 0, 0, 0, 0, 0],\n",
    "    'Rachel Dawes': [1, 0, 0, 0, 0, 0, 0, 0, 0, 0],\n",
    "    'Scare Crow': [0, 1, 0, 0, 0, 1, 0, 0, 1, 1],\n",
    "    'James Gordon': [1, 1, 0, 0, 0, 0, 0, 1, 0, 0],\n",
    "    'Officers': [1, 1, 1, 0, 0, 0, 1, 0, 0, 0],\n",
    "    'Ras al Ghul': [1, 1, 0, 0, 0, 1, 0, 0, 0, 1],\n",
    "    'Falcone': [0, 1, 0, 0, 0, 1, 0, 0, 1, 0]\n",
    "}\n",
    "\n",
    "df = pd.DataFrame(data)\n",
    "df.set_index('Character', inplace=True)\n",
    "\n",
    "print(df)\n",
    "\n"
   ]
  },
  {
   "cell_type": "code",
   "execution_count": null,
   "metadata": {},
   "outputs": [],
   "source": []
  },
  {
   "cell_type": "markdown",
   "metadata": {},
   "source": [
    "### Who are the most importnant characters then? \n",
    "#### Let's use centrality to find the most important characters. "
   ]
  },
  {
   "cell_type": "code",
   "execution_count": 8,
   "metadata": {},
   "outputs": [
    {
     "name": "stdout",
     "output_type": "stream",
     "text": [
      "Top 3 Most Important Characters:\n",
      "Batman: Degree Centrality = 0.875\n",
      "Scare Crow: Degree Centrality = 0.625\n",
      "Alfred: Degree Centrality = 0.5\n"
     ]
    }
   ],
   "source": [
    "import pandas as pd\n",
    "import networkx as nx\n",
    "\n",
    "# Create a DataFrame to represent character connections (as shown in the previous response)\n",
    "data = {\n",
    "    'Character': ['Bruce Wayne', 'Batman', 'Alfred', 'Lucius Fox', 'Rachel Dawes', 'Scare Crow', 'James Gordon', 'Officers', 'Ras al Ghul', 'Falcone'],\n",
    "    'Alfred': [0, 1, 1, 0, 0, 0, 0, 0, 0, 0],\n",
    "    'Batman': [1, 0, 1, 1, 0, 1, 1, 1, 1, 1],\n",
    "    'Lucius Fox': [1, 1, 0, 1, 0, 0, 0, 0, 0, 0],\n",
    "    'Rachel Dawes': [1, 0, 0, 0, 0, 0, 0, 0, 0, 0],\n",
    "    'Scare Crow': [0, 1, 0, 0, 0, 1, 0, 0, 1, 1],\n",
    "    'James Gordon': [1, 1, 0, 0, 0, 0, 0, 1, 0, 0],\n",
    "    'Officers': [1, 1, 1, 0, 0, 0, 1, 0, 0, 0],\n",
    "    'Ras al Ghul': [1, 1, 0, 0, 0, 1, 0, 0, 0, 1],\n",
    "    'Falcone': [0, 1, 0, 0, 0, 1, 0, 0, 1, 0]\n",
    "}\n",
    "\n",
    "df = pd.DataFrame(data)\n",
    "df.set_index('Character', inplace=True)\n",
    "\n",
    "# Transpose the DataFrame to have character names as columns\n",
    "df = df.T\n",
    "\n",
    "# Convert the DataFrame to a NetworkX graph for network analysis\n",
    "G = nx.from_pandas_adjacency(df)\n",
    "\n",
    "# Calculate degree centrality for each character\n",
    "degree_centrality = nx.degree_centrality(G)\n",
    "\n",
    "# Sort characters by degree centrality in descending order\n",
    "sorted_characters = sorted(degree_centrality.items(), key=lambda x: x[1], reverse=True)\n",
    "\n",
    "# Get the top 3 most important characters\n",
    "top_3_important_characters = sorted_characters[:3]\n",
    "\n",
    "# Display the top 3 most important characters\n",
    "print(\"Top 3 Most Important Characters:\")\n",
    "for character, centrality in top_3_important_characters:\n",
    "    print(f\"{character}: Degree Centrality = {centrality}\")\n"
   ]
  }
 ],
 "metadata": {
  "kernelspec": {
   "display_name": "Python 3",
   "language": "python",
   "name": "python3"
  },
  "language_info": {
   "codemirror_mode": {
    "name": "ipython",
    "version": 3
   },
   "file_extension": ".py",
   "mimetype": "text/x-python",
   "name": "python",
   "nbconvert_exporter": "python",
   "pygments_lexer": "ipython3",
   "version": "3.12.0"
  }
 },
 "nbformat": 4,
 "nbformat_minor": 2
}
